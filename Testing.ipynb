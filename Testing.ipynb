{
 "cells": [
  {
   "cell_type": "markdown",
   "metadata": {},
   "source": [
    "# RouteNet Learning Intro"
   ]
  },
  {
   "cell_type": "markdown",
   "metadata": {},
   "source": [
    "## links:"
   ]
  },
  {
   "cell_type": "markdown",
   "metadata": {},
   "source": [
    "[Routenet Training Code](https://github.com/knowledgedefinednetworking/net2vec/tree/RouteNet-JSAC19/routenet)  \n",
    "[Data](https://github.com/BNN-UPC/NetworkModelingDatasets/tree/master/datasets_v1)  \n",
    "    ~[Data API](https://github.com/BNN-UPC/datanetAPI/tree/dataset_v1)  \n",
    "[Demo/How-to](https://github.com/knowledgedefinednetworking/demo-routenet)  \n",
    "    ~[Trained Models](https://github.com/knowledgedefinednetworking/demo-routenet/tree/master/trained_models)"
   ]
  },
  {
   "cell_type": "markdown",
   "metadata": {},
   "source": [
    "# Setup"
   ]
  },
  {
   "cell_type": "code",
   "execution_count": 4,
   "metadata": {},
   "outputs": [
    {
     "name": "stdout",
     "output_type": "stream",
     "text": [
      "Collecting absl-py==0.7.1\n",
      "  Using cached absl-py-0.7.1.tar.gz (99 kB)\n",
      "Collecting astor==0.8.0\n",
      "  Using cached astor-0.8.0-py2.py3-none-any.whl (27 kB)\n",
      "Collecting decorator==4.4.0\n",
      "  Using cached decorator-4.4.0-py2.py3-none-any.whl (8.3 kB)\n",
      "Collecting gast==0.2.2\n",
      "  Using cached gast-0.2.2.tar.gz (10 kB)\n",
      "Collecting google-pasta==0.1.7\n",
      "  Using cached google_pasta-0.1.7-py3-none-any.whl (52 kB)\n",
      "Collecting grpcio==1.21.1\n",
      "  Using cached grpcio-1.21.1.tar.gz (13.9 MB)\n",
      "Collecting h5py==2.9.0\n",
      "  Using cached h5py-2.9.0-cp38-cp38-manylinux1_x86_64.whl (2.8 MB)\n",
      "Requirement already satisfied: Keras-Applications==1.0.8 in /home/andres/.local/lib/python3.8/site-packages (from -r demo/demo-routenet/requirements.txt (line 8)) (1.0.8)\n",
      "Collecting Keras-Preprocessing==1.1.0\n",
      "  Using cached Keras_Preprocessing-1.1.0-py2.py3-none-any.whl (41 kB)\n",
      "Collecting Markdown==3.1.1\n",
      "  Using cached Markdown-3.1.1-py2.py3-none-any.whl (87 kB)\n",
      "Collecting networkx==2.3\n",
      "  Using cached networkx-2.3.zip (1.7 MB)\n",
      "Collecting numpy==1.16.4\n",
      "  Using cached numpy-1.16.4.zip (5.1 MB)\n",
      "Collecting pandas==0.24.2\n",
      "  Using cached pandas-0.24.2.tar.gz (11.8 MB)\n",
      "Collecting protobuf==3.8.0\n",
      "  Using cached protobuf-3.8.0-py2.py3-none-any.whl (427 kB)\n",
      "Collecting python-dateutil==2.8.0\n",
      "  Using cached python_dateutil-2.8.0-py2.py3-none-any.whl (226 kB)\n",
      "Collecting pytz==2019.1\n",
      "  Using cached pytz-2019.1-py2.py3-none-any.whl (510 kB)\n",
      "Collecting six==1.12.0\n",
      "  Using cached six-1.12.0-py2.py3-none-any.whl (10 kB)\n",
      "Collecting tensorboard==1.14.0\n",
      "  Using cached tensorboard-1.14.0-py3-none-any.whl (3.1 MB)\n",
      "Collecting tensorflow-estimator==1.14.0\n",
      "  Using cached tensorflow_estimator-1.14.0-py2.py3-none-any.whl (488 kB)\n",
      "\u001b[31mERROR: Could not find a version that satisfies the requirement tensorflow-gpu==1.14.0 (from -r demo/demo-routenet/requirements.txt (line 20)) (from versions: 2.2.0, 2.2.1, 2.2.2, 2.2.3, 2.3.0, 2.3.1, 2.3.2, 2.3.3, 2.3.4, 2.4.0, 2.4.1, 2.4.2, 2.4.3, 2.4.4, 2.5.0, 2.5.1, 2.5.2, 2.5.3, 2.6.0, 2.6.1, 2.6.2, 2.6.3, 2.6.4, 2.6.5, 2.7.0rc0, 2.7.0rc1, 2.7.0, 2.7.1, 2.7.2, 2.7.3, 2.8.0rc0, 2.8.0rc1, 2.8.0, 2.8.1, 2.8.2, 2.9.0rc0, 2.9.0rc1, 2.9.0rc2, 2.9.0, 2.9.1)\u001b[0m\n",
      "\u001b[31mERROR: No matching distribution found for tensorflow-gpu==1.14.0 (from -r demo/demo-routenet/requirements.txt (line 20))\u001b[0m\n"
     ]
    }
   ],
   "source": [
    "#!pip3 install -r demo/demo-routenet/requirements.txt"
   ]
  },
  {
   "cell_type": "code",
   "execution_count": 5,
   "metadata": {},
   "outputs": [
    {
     "name": "stdout",
     "output_type": "stream",
     "text": [
      "Collecting tensorflow-gpu\n",
      "  Downloading tensorflow_gpu-2.9.1-cp38-cp38-manylinux_2_17_x86_64.manylinux2014_x86_64.whl (511.7 MB)\n",
      "\u001b[K     |████████████████████████████████| 511.7 MB 18 kB/s  eta 0:00:012    |▊                               | 11.2 MB 10.1 MB/s eta 0:00:50     |██▌                             | 40.8 MB 2.6 MB/s eta 0:03:04     |███████▎                        | 116.0 MB 7.9 MB/s eta 0:00:51     |█████████▍                      | 150.3 MB 9.0 MB/s eta 0:00:41     |██████████                      | 158.3 MB 8.1 MB/s eta 0:00:44     |██████████▍                     | 165.3 MB 8.3 MB/s eta 0:00:42     |██████████▍                     | 165.7 MB 8.3 MB/s eta 0:00:42     |███████████                     | 177.4 MB 9.0 MB/s eta 0:00:38     |███████████▏                    | 177.8 MB 9.0 MB/s eta 0:00:38     |████████████                    | 190.3 MB 8.9 MB/s eta 0:00:37     |████████████                    | 191.2 MB 9.5 MB/s eta 0:00:34     |█████████████                   | 208.1 MB 8.8 MB/s eta 0:00:35     |█████████████▌                  | 216.5 MB 8.6 MB/s eta 0:00:35     |██████████████▍                 | 229.9 MB 7.7 MB/s eta 0:00:37     |███████████████▋                | 249.4 MB 9.4 MB/s eta 0:00:28     |████████████████▍               | 261.7 MB 1.3 MB/s eta 0:03:17     |██████████████████              | 287.8 MB 7.8 MB/s eta 0:00:29     |██████████████████▍             | 294.3 MB 10.5 MB/s eta 0:00:21     |███████████████████▉            | 317.5 MB 8.3 MB/s eta 0:00:24     |████████████████████▎           | 323.4 MB 8.3 MB/s eta 0:00:23     |████████████████████▎           | 324.8 MB 8.3 MB/s eta 0:00:23�████████▍           | 325.8 MB 8.5 MB/s eta 0:00:22█▌         | 360.6 MB 7.0 MB/s eta 0:00:22███████████████████▏        | 369.7 MB 7.0 MB/s eta 0:00:21  |███████████████████████▏        | 371.0 MB 9.4 MB/s eta 0:00:15  |███████████████████████▉        | 381.5 MB 8.2 MB/s eta 0:00:16     |████████████████████████        | 382.2 MB 8.2 MB/s eta 0:00:16     |████████████████████████        | 384.6 MB 8.2 MB/s eta 0:00:16██████▏       | 385.9 MB 8.2 MB/s eta 0:00:16███████████████▏       | 386.4 MB 8.2 MB/s eta 0:00:16��████████████████▍       | 390.5 MB 8.4 MB/s eta 0:00:15██████▊       | 394.7 MB 8.4 MB/s eta 0:00:14███████████████▊       | 395.2 MB 8.4 MB/s eta 0:00:14██████▉       | 396.2 MB 8.4 MB/s eta 0:00:14    |████████████████████████▉       | 396.6 MB 8.4 MB/s eta 0:00:147.8 MB 9.3 MB/s eta 0:00:13████████████████       | 398.1 MB 9.3 MB/s eta 0:00:13███████       | 399.1 MB 9.3 MB/s eta 0:00:13███████       | 400.6 MB 9.3 MB/s eta 0:00:12    |█████████████████████████       | 400.9 MB 9.3 MB/s eta 0:00:12     |██████████████████████████      | 416.7 MB 8.3 MB/s eta 0:00:12�████████▏     | 418.3 MB 8.3 MB/s eta 0:00:122�████████▎     | 420.2 MB 8.3 MB/s eta 0:00:12     |██████████████████████████▍     | 421.4 MB 8.3 MB/s eta 0:00:11��█████████████████▍     | 421.9 MB 8.3 MB/s eta 0:00:11███████████████████▌     | 422.9 MB 8.3 MB/s eta 0:00:11  | 423.2 MB 8.3 MB/s eta 0:00:11��██████████████████▊     | 427.5 MB 10.7 MB/s eta 0:00:08��██████████████████▉     | 428.5 MB 10.7 MB/s eta 0:00:08████████▉     | 428.8 MB 10.7 MB/s eta 0:00:08��███████████████████     | 430.1 MB 10.7 MB/s eta 0:00:08█████████     | 430.5 MB 10.7 MB/s eta 0:00:08��███████████████████     | 433.5 MB 10.7 MB/s eta 0:00:08:09[K     |███████████████████████████▍    | 437.8 MB 8.8 MB/s eta 0:00:09[K     |███████████████████████████▋    | 440.8 MB 8.8 MB/s eta 0:00:09[K     |███████████████████████████▋    | 442.2 MB 8.8 MB/s eta 0:00:08[K     |███████████████████████████▉    | 444.7 MB 5.9 MB/s eta 0:00:12[K     |████████████████████████████    | 447.6 MB 5.9 MB/s eta 0:00:11[K     |████████████████████████████    | 449.2 MB 5.9 MB/s eta 0:00:11████████▏   | 450.3 MB 451 kB/s eta 0:02:17��█████████████▎   | 451.4 MB 451 kB/s eta 0:02:14████████▍   | 453.4 MB 451 kB/s eta 0:02:10��███████████████████▍   | 454.4 MB 451 kB/s eta 0:02:08.7 MB 451 kB/s eta 0:02:07████████▌   | 456.5 MB 451 kB/s eta 0:02:03|████████████████████████████▋   | 456.8 MB 451 kB/s eta 0:02:02████████▋   | 458.3 MB 451 kB/s eta 0:01:59|████████████████████████████▊   | 458.6 MB 451 kB/s eta 0:01:58████████▊   | 459.9 MB 451 kB/s eta 0:01:55|████████████████████████████▉   | 460.2 MB 451 kB/s eta 0:01:55████████▉   | 461.5 MB 9.8 MB/s eta 0:00:06|████████████████████████████▉   | 461.8 MB 9.8 MB/s eta 0:00:06█████████   | 463.2 MB 9.8 MB/s eta 0:00:05█████████▏  | 465.5 MB 9.8 MB/s eta 0:00:05��█████████████▏  | 465.8 MB 34.8 MB/s eta 0:00:024.8 MB/s eta 0:00:02█▎  | 467.9 MB 34.8 MB/s eta 0:00:024.8 MB/s eta 0:00:02█▍  | 469.2 MB 34.8 MB/s eta 0:00:024.8 MB/s eta 0:00:02█▍  | 470.5 MB 34.8 MB/s eta 0:00:02472.0 MB 34.8 MB/s eta 0:00:02�████▌  | 472.3 MB 34.8 MB/s eta 0:00:024.8 MB/s eta 0:00:02█▋  | 473.6 MB 34.8 MB/s eta 0:00:02|█████████████████████████████▊  | 474.9 MB 9.6 MB/s eta 0:00:04██████████████████████████▊  | 475.2 MB 9.6 MB/s eta 0:00:04█████████████████████████████▉  | 476.4 MB 9.6 MB/s eta 0:00:04��█████████████████████████▉  | 476.7 MB 9.6 MB/s eta 0:00:04█████████████████████████████▉  | 477.9 MB 9.6 MB/s eta 0:00:04��██████████████████████████  | 478.2 MB 9.6 MB/s eta 0:00:04██████████████████████████████  | 479.6 MB 9.6 MB/s eta 0:00:04��██████████████████████████  | 479.9 MB 9.6 MB/s eta 0:00:04██████████████████████████████  | 481.3 MB 9.6 MB/s eta 0:00:04   |██████████████████████████████▏ | 481.6 MB 9.6 MB/s eta 0:00:04█████▏ | 482.8 MB 9.6 MB/s eta 0:00:04██████████████████████████████▎ | 483.3 MB 9.6 MB/s eta 0:00:033 MB 8.9 MB/s eta 0:00:04�█████████████▎ | 484.6 MB 8.9 MB/s eta 0:00:04█████▍ | 485.5 MB 8.9 MB/s eta 0:00:03��█████████████████████▍ | 485.8 MB 8.9 MB/s eta 0:00:03█████▌ | 487.3 MB 8.9 MB/s eta 0:00:03��█████████████████████▌ | 487.6 MB 8.9 MB/s eta 0:00:03█████▋ | 488.8 MB 8.9 MB/s eta 0:00:03��█████████████████████▋ | 489.2 MB 8.9 MB/s eta 0:00:03█████▊ | 490.6 MB 8.9 MB/s eta 0:00:03��█████████████████████▊ | 490.9 MB 8.9 MB/s eta 0:00:03�█████████████▉ | 492.5 MB 8.7 MB/s eta 0:00:03██████████████████████████████▉ | 492.8 MB 8.7 MB/s eta 0:00:03█████▉ | 493.8 MB 8.7 MB/s eta 0:00:03��██████████████████████ | 494.1 MB 8.7 MB/s eta 0:00:03██████ | 495.3 MB 8.7 MB/s eta 0:00:02██████ | 496.4 MB 8.7 MB/s eta 0:00:02��██████████████████████ | 496.8 MB 8.7 MB/s eta 0:00:02�█████████████████████████▏| 498.0 MB 8.7 MB/s eta 0:00:02�████████████████▏| 498.3 MB 8.7 MB/s eta 0:00:02�█████████████████████████▎| 499.5 MB 8.7 MB/s eta 0:00:02�████████████████▎| 499.8 MB 8.7 MB/s eta 0:00:02�█████████████████████████▍| 501.5 MB 8.7 MB/s eta 0:00:02�█████████████████████████▍| 502.4 MB 8.7 MB/s eta 0:00:02�████████████████▍| 502.7 MB 8.7 MB/s eta 0:00:02�█████████████████████████▌| 503.9 MB 8.7 MB/s eta 0:00:01�████████████████▌| 504.2 MB 8.7 MB/s eta 0:00:01�█████████████████████████▋| 505.5 MB 8.7 MB/s eta 0:00:01�████████████████▋| 505.8 MB 8.7 MB/s eta 0:00:01�█████████████████████████▊| 507.0 MB 8.7 MB/s eta 0:00:01�████████████████▊| 507.3 MB 8.7 MB/s eta 0:00:01�█████████████████████████▉| 508.6 MB 8.7 MB/s eta 0:00:01�████████████████▉| 508.9 MB 8.7 MB/s eta 0:00:01�██████████████████████████| 510.4 MB 8.6 MB/s eta 0:00:01�█████████████████| 510.7 MB 8.6 MB/s eta 0:00:01\n",
      "\u001b[?25hRequirement already satisfied: tensorflow-estimator<2.10.0,>=2.9.0rc0 in /home/andres/.local/lib/python3.8/site-packages (from tensorflow-gpu) (2.9.0)\n",
      "Requirement already satisfied: packaging in /home/andres/.local/lib/python3.8/site-packages (from tensorflow-gpu) (21.0)\n",
      "Requirement already satisfied: google-pasta>=0.1.1 in /home/andres/.local/lib/python3.8/site-packages (from tensorflow-gpu) (0.2.0)\n",
      "Requirement already satisfied: libclang>=13.0.0 in /home/andres/.local/lib/python3.8/site-packages (from tensorflow-gpu) (13.0.0)\n",
      "Requirement already satisfied: absl-py>=1.0.0 in /home/andres/.local/lib/python3.8/site-packages (from tensorflow-gpu) (1.0.0)\n",
      "Requirement already satisfied: h5py>=2.9.0 in /home/andres/.local/lib/python3.8/site-packages (from tensorflow-gpu) (3.6.0)\n",
      "Requirement already satisfied: astunparse>=1.6.0 in /home/andres/.local/lib/python3.8/site-packages (from tensorflow-gpu) (1.6.3)\n",
      "Requirement already satisfied: termcolor>=1.1.0 in /home/andres/.local/lib/python3.8/site-packages (from tensorflow-gpu) (1.1.0)\n",
      "Requirement already satisfied: setuptools in /usr/lib/python3/dist-packages (from tensorflow-gpu) (45.2.0)\n",
      "Requirement already satisfied: wrapt>=1.11.0 in /home/andres/.local/lib/python3.8/site-packages (from tensorflow-gpu) (1.14.0)\n",
      "Requirement already satisfied: numpy>=1.20 in /home/andres/.local/lib/python3.8/site-packages (from tensorflow-gpu) (1.21.2)\n",
      "Requirement already satisfied: grpcio<2.0,>=1.24.3 in /home/andres/.local/lib/python3.8/site-packages (from tensorflow-gpu) (1.44.0)\n",
      "Requirement already satisfied: six>=1.12.0 in /usr/lib/python3/dist-packages (from tensorflow-gpu) (1.14.0)\n",
      "Requirement already satisfied: tensorboard<2.10,>=2.9 in /home/andres/.local/lib/python3.8/site-packages (from tensorflow-gpu) (2.9.0)\n",
      "Requirement already satisfied: flatbuffers<2,>=1.12 in /home/andres/.local/lib/python3.8/site-packages (from tensorflow-gpu) (1.12)\n",
      "Requirement already satisfied: protobuf<3.20,>=3.9.2 in /home/andres/.local/lib/python3.8/site-packages (from tensorflow-gpu) (3.19.4)\n",
      "Requirement already satisfied: opt-einsum>=2.3.2 in /home/andres/.local/lib/python3.8/site-packages (from tensorflow-gpu) (3.3.0)\n",
      "Requirement already satisfied: keras-preprocessing>=1.1.1 in /home/andres/.local/lib/python3.8/site-packages (from tensorflow-gpu) (1.1.2)\n",
      "Requirement already satisfied: gast<=0.4.0,>=0.2.1 in /home/andres/.local/lib/python3.8/site-packages (from tensorflow-gpu) (0.4.0)\n",
      "Requirement already satisfied: typing-extensions>=3.6.6 in /home/andres/.local/lib/python3.8/site-packages (from tensorflow-gpu) (4.2.0)\n",
      "Collecting keras<2.10.0,>=2.9.0rc0\n",
      "  Using cached keras-2.9.0-py2.py3-none-any.whl (1.6 MB)\n",
      "Requirement already satisfied: tensorflow-io-gcs-filesystem>=0.23.1 in /home/andres/.local/lib/python3.8/site-packages (from tensorflow-gpu) (0.24.0)\n",
      "Requirement already satisfied: pyparsing>=2.0.2 in /home/andres/.local/lib/python3.8/site-packages (from packaging->tensorflow-gpu) (2.4.7)\n",
      "Requirement already satisfied: wheel<1.0,>=0.23.0 in /usr/lib/python3/dist-packages (from astunparse>=1.6.0->tensorflow-gpu) (0.34.2)\n",
      "Requirement already satisfied: requests<3,>=2.21.0 in /usr/lib/python3/dist-packages (from tensorboard<2.10,>=2.9->tensorflow-gpu) (2.22.0)\n",
      "Requirement already satisfied: werkzeug>=1.0.1 in /home/andres/.local/lib/python3.8/site-packages (from tensorboard<2.10,>=2.9->tensorflow-gpu) (2.1.1)\n",
      "Requirement already satisfied: google-auth<3,>=1.6.3 in /home/andres/.local/lib/python3.8/site-packages (from tensorboard<2.10,>=2.9->tensorflow-gpu) (2.6.6)\n",
      "Requirement already satisfied: tensorboard-data-server<0.7.0,>=0.6.0 in /home/andres/.local/lib/python3.8/site-packages (from tensorboard<2.10,>=2.9->tensorflow-gpu) (0.6.1)\n",
      "Requirement already satisfied: markdown>=2.6.8 in /home/andres/.local/lib/python3.8/site-packages (from tensorboard<2.10,>=2.9->tensorflow-gpu) (3.3.7)\n",
      "Requirement already satisfied: google-auth-oauthlib<0.5,>=0.4.1 in /home/andres/.local/lib/python3.8/site-packages (from tensorboard<2.10,>=2.9->tensorflow-gpu) (0.4.6)\n",
      "Requirement already satisfied: tensorboard-plugin-wit>=1.6.0 in /home/andres/.local/lib/python3.8/site-packages (from tensorboard<2.10,>=2.9->tensorflow-gpu) (1.8.1)\n",
      "Requirement already satisfied: rsa<5,>=3.1.4; python_version >= \"3.6\" in /home/andres/.local/lib/python3.8/site-packages (from google-auth<3,>=1.6.3->tensorboard<2.10,>=2.9->tensorflow-gpu) (4.8)\n",
      "Requirement already satisfied: cachetools<6.0,>=2.0.0 in /home/andres/.local/lib/python3.8/site-packages (from google-auth<3,>=1.6.3->tensorboard<2.10,>=2.9->tensorflow-gpu) (5.0.0)\n",
      "Requirement already satisfied: pyasn1-modules>=0.2.1 in /usr/lib/python3/dist-packages (from google-auth<3,>=1.6.3->tensorboard<2.10,>=2.9->tensorflow-gpu) (0.2.1)\n",
      "Requirement already satisfied: importlib-metadata>=4.4; python_version < \"3.10\" in /home/andres/.local/lib/python3.8/site-packages (from markdown>=2.6.8->tensorboard<2.10,>=2.9->tensorflow-gpu) (4.11.4)\n",
      "Requirement already satisfied: requests-oauthlib>=0.7.0 in /home/andres/.local/lib/python3.8/site-packages (from google-auth-oauthlib<0.5,>=0.4.1->tensorboard<2.10,>=2.9->tensorflow-gpu) (1.3.1)\n",
      "Requirement already satisfied: pyasn1>=0.1.3 in /usr/lib/python3/dist-packages (from rsa<5,>=3.1.4; python_version >= \"3.6\"->google-auth<3,>=1.6.3->tensorboard<2.10,>=2.9->tensorflow-gpu) (0.4.2)\n",
      "Requirement already satisfied: zipp>=0.5 in /usr/lib/python3/dist-packages (from importlib-metadata>=4.4; python_version < \"3.10\"->markdown>=2.6.8->tensorboard<2.10,>=2.9->tensorflow-gpu) (1.0.0)\n",
      "Requirement already satisfied: oauthlib>=3.0.0 in /usr/lib/python3/dist-packages (from requests-oauthlib>=0.7.0->google-auth-oauthlib<0.5,>=0.4.1->tensorboard<2.10,>=2.9->tensorflow-gpu) (3.1.0)\n",
      "Installing collected packages: keras, tensorflow-gpu\n",
      "^C\n"
     ]
    }
   ],
   "source": [
    "!pip3 install tensorflow-gpu"
   ]
  },
  {
   "cell_type": "markdown",
   "metadata": {},
   "source": [
    "recived an error: ERROR: No matching distribution found for tensorflow-gpu==1.14.0 (from -r demo/demo-routenet/requirements.txt (line 20))  \n",
    "it looks like this version is outdated, downloadable versions are from 2.20-. Hopefully it doesnt become a problem. If it does then i'll have to find a legacy version of the code or something."
   ]
  },
  {
   "cell_type": "code",
   "execution_count": 1,
   "metadata": {},
   "outputs": [],
   "source": [
    "#!pip3 install networkx\n",
    "#did not work in here, done in terminal"
   ]
  },
  {
   "cell_type": "code",
   "execution_count": 5,
   "metadata": {
    "tags": []
   },
   "outputs": [
    {
     "name": "stdout",
     "output_type": "stream",
     "text": [
      "absl-py==1.0.0\n",
      "astunparse==1.6.3\n",
      "cachetools==5.1.0\n",
      "certifi==2022.5.18.1\n",
      "charset-normalizer==2.0.12\n",
      "flatbuffers==1.12\n",
      "gast==0.4.0\n",
      "google-auth==2.6.6\n",
      "google-auth-oauthlib==0.4.6\n",
      "google-pasta==0.2.0\n",
      "grpcio==1.46.3\n",
      "h5py==3.6.0\n",
      "idna==3.3\n",
      "importlib-metadata==4.11.4\n",
      "keras==2.9.0\n",
      "Keras-Preprocessing==1.1.2\n",
      "libclang==14.0.1\n",
      "Markdown==3.3.7\n",
      "networkx==2.8.2\n",
      "numpy==1.22.4\n",
      "oauthlib==3.2.0\n",
      "opt-einsum==3.3.0\n",
      "packaging==21.3\n",
      "protobuf==3.20.1\n",
      "pyasn1==0.4.8\n",
      "pyasn1-modules==0.2.8\n",
      "pyparsing==3.0.9\n",
      "requests==2.27.1\n",
      "requests-oauthlib==1.3.1\n",
      "rsa==4.8\n",
      "six==1.16.0\n",
      "tensorboard==2.9.0\n",
      "tensorboard-data-server==0.6.1\n",
      "tensorboard-plugin-wit==1.8.1\n",
      "tensorflow-estimator==2.9.0\n",
      "tensorflow-gpu==2.9.0\n",
      "tensorflow-io-gcs-filesystem==0.26.0\n",
      "termcolor==1.1.0\n",
      "typing-extensions==4.2.0\n",
      "urllib3==1.26.9\n",
      "Werkzeug==2.1.2\n",
      "wrapt==1.14.1\n",
      "zipp==3.8.0\n"
     ]
    }
   ],
   "source": [
    "!pip3 freeze"
   ]
  },
  {
   "cell_type": "markdown",
   "metadata": {},
   "source": [
    "the how-to wants me to make a global variable, which i wont do in my personal laptop. Im going to start using docker containers >:("
   ]
  },
  {
   "cell_type": "markdown",
   "metadata": {},
   "source": [
    "since im using wsl, docker containers dont work. ill just continue on my base system and hope for the best"
   ]
  },
  {
   "cell_type": "markdown",
   "metadata": {
    "tags": []
   },
   "source": [
    "# Step 1 Testing the Model"
   ]
  },
  {
   "cell_type": "code",
   "execution_count": null,
   "metadata": {},
   "outputs": [],
   "source": []
  },
  {
   "cell_type": "markdown",
   "metadata": {},
   "source": [
    "# Step 2 Retraining the model"
   ]
  },
  {
   "cell_type": "markdown",
   "metadata": {},
   "source": [
    "# Step 3 Make Changes to the model"
   ]
  }
 ],
 "metadata": {
  "kernelspec": {
   "display_name": "Python 3",
   "language": "python",
   "name": "python3"
  },
  "language_info": {
   "codemirror_mode": {
    "name": "ipython",
    "version": 3
   },
   "file_extension": ".py",
   "mimetype": "text/x-python",
   "name": "python",
   "nbconvert_exporter": "python",
   "pygments_lexer": "ipython3",
   "version": "3.8.10"
  }
 },
 "nbformat": 4,
 "nbformat_minor": 4
}
